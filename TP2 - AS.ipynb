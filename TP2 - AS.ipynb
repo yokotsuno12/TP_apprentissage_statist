{
 "cells": [
  {
   "cell_type": "markdown",
   "id": "e059a9d0",
   "metadata": {},
   "source": [
    "# Statistical Learning : TP 2 \n",
    "J'écris des notes avec # dans mon TP. Parfois elles sont pour vous, parfois elles sont pour moi. Merci de les prendre en compte. \n",
    "## A - First linear regression using Python"
   ]
  },
  {
   "cell_type": "code",
   "execution_count": 139,
   "id": "3dc9909c",
   "metadata": {},
   "outputs": [],
   "source": [
    "import random \n",
    "import pandas as pd"
   ]
  },
  {
   "cell_type": "code",
   "execution_count": 140,
   "id": "f721ead8",
   "metadata": {},
   "outputs": [],
   "source": [
    "df = pd.read_csv(\"tabBats.txt\", sep=' ')\n",
    "# Il faut mettre son fichier et son tp dans documents, ensuite on peut utiliser le nom du fichier pour l'ouvrir avec pandas.read_csv()\n",
    "# sep=' ' c'est pour séparer les colonnes (sinon il pense qu'il n'y a qu'une seule colonne)"
   ]
  },
  {
   "cell_type": "code",
   "execution_count": 141,
   "id": "5efdf8aa",
   "metadata": {},
   "outputs": [
    {
     "data": {
      "text/html": [
       "<div>\n",
       "<style scoped>\n",
       "    .dataframe tbody tr th:only-of-type {\n",
       "        vertical-align: middle;\n",
       "    }\n",
       "\n",
       "    .dataframe tbody tr th {\n",
       "        vertical-align: top;\n",
       "    }\n",
       "\n",
       "    .dataframe thead th {\n",
       "        text-align: right;\n",
       "    }\n",
       "</style>\n",
       "<table border=\"1\" class=\"dataframe\">\n",
       "  <thead>\n",
       "    <tr style=\"text-align: right;\">\n",
       "      <th></th>\n",
       "      <th>id</th>\n",
       "      <th>Species</th>\n",
       "      <th>Diet</th>\n",
       "      <th>BOW</th>\n",
       "      <th>BRW</th>\n",
       "      <th>AUD</th>\n",
       "      <th>MOB</th>\n",
       "      <th>HIP</th>\n",
       "    </tr>\n",
       "  </thead>\n",
       "  <tbody>\n",
       "    <tr>\n",
       "      <th>0</th>\n",
       "      <td>1</td>\n",
       "      <td>Rousettus aegyptiacus</td>\n",
       "      <td>1</td>\n",
       "      <td>136.30</td>\n",
       "      <td>2070.00</td>\n",
       "      <td>9.88</td>\n",
       "      <td>105.77</td>\n",
       "      <td>125.97</td>\n",
       "    </tr>\n",
       "    <tr>\n",
       "      <th>1</th>\n",
       "      <td>2</td>\n",
       "      <td>Epomops franqueti</td>\n",
       "      <td>1</td>\n",
       "      <td>120.00</td>\n",
       "      <td>2210.00</td>\n",
       "      <td>10.44</td>\n",
       "      <td>107.80</td>\n",
       "      <td>159.80</td>\n",
       "    </tr>\n",
       "    <tr>\n",
       "      <th>2</th>\n",
       "      <td>3</td>\n",
       "      <td>Eonycteris spelaea</td>\n",
       "      <td>1</td>\n",
       "      <td>58.70</td>\n",
       "      <td>1310.00</td>\n",
       "      <td>5.48</td>\n",
       "      <td>67.00</td>\n",
       "      <td>97.70</td>\n",
       "    </tr>\n",
       "    <tr>\n",
       "      <th>3</th>\n",
       "      <td>4</td>\n",
       "      <td>Cynopterus sphinx</td>\n",
       "      <td>1</td>\n",
       "      <td>48.30</td>\n",
       "      <td>1184.33</td>\n",
       "      <td>4.77</td>\n",
       "      <td>65.27</td>\n",
       "      <td>95.40</td>\n",
       "    </tr>\n",
       "    <tr>\n",
       "      <th>4</th>\n",
       "      <td>5</td>\n",
       "      <td>Dobsonia praedatrix</td>\n",
       "      <td>1</td>\n",
       "      <td>184.00</td>\n",
       "      <td>3028.00</td>\n",
       "      <td>7.09</td>\n",
       "      <td>213.43</td>\n",
       "      <td>233.30</td>\n",
       "    </tr>\n",
       "    <tr>\n",
       "      <th>5</th>\n",
       "      <td>6</td>\n",
       "      <td>Glossophaga soricina</td>\n",
       "      <td>1</td>\n",
       "      <td>10.60</td>\n",
       "      <td>414.00</td>\n",
       "      <td>3.74</td>\n",
       "      <td>12.20</td>\n",
       "      <td>35.00</td>\n",
       "    </tr>\n",
       "    <tr>\n",
       "      <th>6</th>\n",
       "      <td>7</td>\n",
       "      <td>Leptonycteris curasoae</td>\n",
       "      <td>1</td>\n",
       "      <td>24.50</td>\n",
       "      <td>610.00</td>\n",
       "      <td>5.57</td>\n",
       "      <td>18.60</td>\n",
       "      <td>44.95</td>\n",
       "    </tr>\n",
       "    <tr>\n",
       "      <th>7</th>\n",
       "      <td>8</td>\n",
       "      <td>Macroglossus miniumus</td>\n",
       "      <td>1</td>\n",
       "      <td>14.60</td>\n",
       "      <td>561.00</td>\n",
       "      <td>2.40</td>\n",
       "      <td>30.05</td>\n",
       "      <td>52.95</td>\n",
       "    </tr>\n",
       "    <tr>\n",
       "      <th>8</th>\n",
       "      <td>9</td>\n",
       "      <td>Syconycteris australis</td>\n",
       "      <td>1</td>\n",
       "      <td>14.70</td>\n",
       "      <td>570.00</td>\n",
       "      <td>2.13</td>\n",
       "      <td>31.40</td>\n",
       "      <td>53.10</td>\n",
       "    </tr>\n",
       "    <tr>\n",
       "      <th>9</th>\n",
       "      <td>10</td>\n",
       "      <td>Nyctimene albiventer</td>\n",
       "      <td>1</td>\n",
       "      <td>29.70</td>\n",
       "      <td>825.00</td>\n",
       "      <td>4.56</td>\n",
       "      <td>68.93</td>\n",
       "      <td>81.40</td>\n",
       "    </tr>\n",
       "    <tr>\n",
       "      <th>10</th>\n",
       "      <td>24</td>\n",
       "      <td>Brachyphylla cavernarum</td>\n",
       "      <td>1</td>\n",
       "      <td>44.50</td>\n",
       "      <td>1196.00</td>\n",
       "      <td>8.63</td>\n",
       "      <td>42.20</td>\n",
       "      <td>78.80</td>\n",
       "    </tr>\n",
       "    <tr>\n",
       "      <th>11</th>\n",
       "      <td>25</td>\n",
       "      <td>Lionycteris spurrelli</td>\n",
       "      <td>1</td>\n",
       "      <td>9.90</td>\n",
       "      <td>393.00</td>\n",
       "      <td>3.71</td>\n",
       "      <td>10.30</td>\n",
       "      <td>29.50</td>\n",
       "    </tr>\n",
       "    <tr>\n",
       "      <th>12</th>\n",
       "      <td>26</td>\n",
       "      <td>Eidolon helvum</td>\n",
       "      <td>1</td>\n",
       "      <td>262.00</td>\n",
       "      <td>4290.00</td>\n",
       "      <td>12.77</td>\n",
       "      <td>208.70</td>\n",
       "      <td>258.10</td>\n",
       "    </tr>\n",
       "    <tr>\n",
       "      <th>13</th>\n",
       "      <td>27</td>\n",
       "      <td>Pteropus vampyrus</td>\n",
       "      <td>1</td>\n",
       "      <td>1014.00</td>\n",
       "      <td>9121.00</td>\n",
       "      <td>16.93</td>\n",
       "      <td>243.54</td>\n",
       "      <td>331.29</td>\n",
       "    </tr>\n",
       "    <tr>\n",
       "      <th>14</th>\n",
       "      <td>28</td>\n",
       "      <td>Anoura geofroyi</td>\n",
       "      <td>1</td>\n",
       "      <td>16.00</td>\n",
       "      <td>586.00</td>\n",
       "      <td>5.20</td>\n",
       "      <td>14.15</td>\n",
       "      <td>41.40</td>\n",
       "    </tr>\n",
       "    <tr>\n",
       "      <th>15</th>\n",
       "      <td>29</td>\n",
       "      <td>Phylloderma stenops</td>\n",
       "      <td>1</td>\n",
       "      <td>46.10</td>\n",
       "      <td>1338.00</td>\n",
       "      <td>10.20</td>\n",
       "      <td>87.40</td>\n",
       "      <td>91.70</td>\n",
       "    </tr>\n",
       "    <tr>\n",
       "      <th>16</th>\n",
       "      <td>30</td>\n",
       "      <td>Phyllostomus haustatus</td>\n",
       "      <td>1</td>\n",
       "      <td>90.10</td>\n",
       "      <td>1517.00</td>\n",
       "      <td>12.74</td>\n",
       "      <td>34.33</td>\n",
       "      <td>65.60</td>\n",
       "    </tr>\n",
       "    <tr>\n",
       "      <th>17</th>\n",
       "      <td>31</td>\n",
       "      <td>Mimon crenulatum</td>\n",
       "      <td>1</td>\n",
       "      <td>11.80</td>\n",
       "      <td>326.00</td>\n",
       "      <td>5.92</td>\n",
       "      <td>7.30</td>\n",
       "      <td>18.20</td>\n",
       "    </tr>\n",
       "    <tr>\n",
       "      <th>18</th>\n",
       "      <td>32</td>\n",
       "      <td>Trachops cirrhosus</td>\n",
       "      <td>1</td>\n",
       "      <td>36.90</td>\n",
       "      <td>1003.00</td>\n",
       "      <td>16.34</td>\n",
       "      <td>23.50</td>\n",
       "      <td>50.60</td>\n",
       "    </tr>\n",
       "    <tr>\n",
       "      <th>19</th>\n",
       "      <td>33</td>\n",
       "      <td>Tonatia bidens</td>\n",
       "      <td>1</td>\n",
       "      <td>27.67</td>\n",
       "      <td>684.67</td>\n",
       "      <td>13.37</td>\n",
       "      <td>17.96</td>\n",
       "      <td>28.30</td>\n",
       "    </tr>\n",
       "    <tr>\n",
       "      <th>20</th>\n",
       "      <td>34</td>\n",
       "      <td>Vampyrum spectrum</td>\n",
       "      <td>1</td>\n",
       "      <td>173.00</td>\n",
       "      <td>2587.00</td>\n",
       "      <td>27.60</td>\n",
       "      <td>92.00</td>\n",
       "      <td>110.40</td>\n",
       "    </tr>\n",
       "    <tr>\n",
       "      <th>21</th>\n",
       "      <td>35</td>\n",
       "      <td>Micronycteris brachyotis</td>\n",
       "      <td>1</td>\n",
       "      <td>8.98</td>\n",
       "      <td>319.00</td>\n",
       "      <td>4.19</td>\n",
       "      <td>13.85</td>\n",
       "      <td>17.10</td>\n",
       "    </tr>\n",
       "    <tr>\n",
       "      <th>22</th>\n",
       "      <td>36</td>\n",
       "      <td>Carollia perspicillata</td>\n",
       "      <td>1</td>\n",
       "      <td>17.80</td>\n",
       "      <td>546.00</td>\n",
       "      <td>5.27</td>\n",
       "      <td>23.55</td>\n",
       "      <td>40.75</td>\n",
       "    </tr>\n",
       "    <tr>\n",
       "      <th>23</th>\n",
       "      <td>37</td>\n",
       "      <td>Rhinophlylla pumilio</td>\n",
       "      <td>1</td>\n",
       "      <td>8.90</td>\n",
       "      <td>356.00</td>\n",
       "      <td>4.57</td>\n",
       "      <td>18.80</td>\n",
       "      <td>30.30</td>\n",
       "    </tr>\n",
       "    <tr>\n",
       "      <th>24</th>\n",
       "      <td>38</td>\n",
       "      <td>Sturnira lilium</td>\n",
       "      <td>1</td>\n",
       "      <td>20.20</td>\n",
       "      <td>618.00</td>\n",
       "      <td>4.77</td>\n",
       "      <td>30.77</td>\n",
       "      <td>49.73</td>\n",
       "    </tr>\n",
       "    <tr>\n",
       "      <th>25</th>\n",
       "      <td>39</td>\n",
       "      <td>Artibeus lituratus</td>\n",
       "      <td>1</td>\n",
       "      <td>41.00</td>\n",
       "      <td>1016.00</td>\n",
       "      <td>7.21</td>\n",
       "      <td>34.38</td>\n",
       "      <td>54.90</td>\n",
       "    </tr>\n",
       "    <tr>\n",
       "      <th>26</th>\n",
       "      <td>40</td>\n",
       "      <td>Uroderma bilobatum</td>\n",
       "      <td>1</td>\n",
       "      <td>16.20</td>\n",
       "      <td>612.00</td>\n",
       "      <td>5.98</td>\n",
       "      <td>28.70</td>\n",
       "      <td>42.70</td>\n",
       "    </tr>\n",
       "    <tr>\n",
       "      <th>27</th>\n",
       "      <td>41</td>\n",
       "      <td>Vampyrops vittatus</td>\n",
       "      <td>1</td>\n",
       "      <td>22.60</td>\n",
       "      <td>791.00</td>\n",
       "      <td>11.56</td>\n",
       "      <td>29.22</td>\n",
       "      <td>52.46</td>\n",
       "    </tr>\n",
       "    <tr>\n",
       "      <th>28</th>\n",
       "      <td>42</td>\n",
       "      <td>Chiroderma villosum</td>\n",
       "      <td>1</td>\n",
       "      <td>26.10</td>\n",
       "      <td>814.00</td>\n",
       "      <td>7.95</td>\n",
       "      <td>28.75</td>\n",
       "      <td>47.58</td>\n",
       "    </tr>\n",
       "  </tbody>\n",
       "</table>\n",
       "</div>"
      ],
      "text/plain": [
       "    id                   Species  Diet      BOW      BRW    AUD     MOB  \\\n",
       "0    1     Rousettus aegyptiacus     1   136.30  2070.00   9.88  105.77   \n",
       "1    2         Epomops franqueti     1   120.00  2210.00  10.44  107.80   \n",
       "2    3        Eonycteris spelaea     1    58.70  1310.00   5.48   67.00   \n",
       "3    4         Cynopterus sphinx     1    48.30  1184.33   4.77   65.27   \n",
       "4    5       Dobsonia praedatrix     1   184.00  3028.00   7.09  213.43   \n",
       "5    6      Glossophaga soricina     1    10.60   414.00   3.74   12.20   \n",
       "6    7    Leptonycteris curasoae     1    24.50   610.00   5.57   18.60   \n",
       "7    8     Macroglossus miniumus     1    14.60   561.00   2.40   30.05   \n",
       "8    9    Syconycteris australis     1    14.70   570.00   2.13   31.40   \n",
       "9   10      Nyctimene albiventer     1    29.70   825.00   4.56   68.93   \n",
       "10  24   Brachyphylla cavernarum     1    44.50  1196.00   8.63   42.20   \n",
       "11  25     Lionycteris spurrelli     1     9.90   393.00   3.71   10.30   \n",
       "12  26            Eidolon helvum     1   262.00  4290.00  12.77  208.70   \n",
       "13  27         Pteropus vampyrus     1  1014.00  9121.00  16.93  243.54   \n",
       "14  28           Anoura geofroyi     1    16.00   586.00   5.20   14.15   \n",
       "15  29       Phylloderma stenops     1    46.10  1338.00  10.20   87.40   \n",
       "16  30    Phyllostomus haustatus     1    90.10  1517.00  12.74   34.33   \n",
       "17  31          Mimon crenulatum     1    11.80   326.00   5.92    7.30   \n",
       "18  32        Trachops cirrhosus     1    36.90  1003.00  16.34   23.50   \n",
       "19  33            Tonatia bidens     1    27.67   684.67  13.37   17.96   \n",
       "20  34         Vampyrum spectrum     1   173.00  2587.00  27.60   92.00   \n",
       "21  35  Micronycteris brachyotis     1     8.98   319.00   4.19   13.85   \n",
       "22  36    Carollia perspicillata     1    17.80   546.00   5.27   23.55   \n",
       "23  37      Rhinophlylla pumilio     1     8.90   356.00   4.57   18.80   \n",
       "24  38           Sturnira lilium     1    20.20   618.00   4.77   30.77   \n",
       "25  39        Artibeus lituratus     1    41.00  1016.00   7.21   34.38   \n",
       "26  40        Uroderma bilobatum     1    16.20   612.00   5.98   28.70   \n",
       "27  41        Vampyrops vittatus     1    22.60   791.00  11.56   29.22   \n",
       "28  42       Chiroderma villosum     1    26.10   814.00   7.95   28.75   \n",
       "\n",
       "       HIP  \n",
       "0   125.97  \n",
       "1   159.80  \n",
       "2    97.70  \n",
       "3    95.40  \n",
       "4   233.30  \n",
       "5    35.00  \n",
       "6    44.95  \n",
       "7    52.95  \n",
       "8    53.10  \n",
       "9    81.40  \n",
       "10   78.80  \n",
       "11   29.50  \n",
       "12  258.10  \n",
       "13  331.29  \n",
       "14   41.40  \n",
       "15   91.70  \n",
       "16   65.60  \n",
       "17   18.20  \n",
       "18   50.60  \n",
       "19   28.30  \n",
       "20  110.40  \n",
       "21   17.10  \n",
       "22   40.75  \n",
       "23   30.30  \n",
       "24   49.73  \n",
       "25   54.90  \n",
       "26   42.70  \n",
       "27   52.46  \n",
       "28   47.58  "
      ]
     },
     "execution_count": 141,
     "metadata": {},
     "output_type": "execute_result"
    }
   ],
   "source": [
    "df"
   ]
  },
  {
   "cell_type": "code",
   "execution_count": 142,
   "id": "4bfe78b5",
   "metadata": {},
   "outputs": [],
   "source": [
    "from numpy import *  \n",
    "import matplotlib.pyplot as plt"
   ]
  },
  {
   "cell_type": "code",
   "execution_count": 143,
   "id": "ba5880ee",
   "metadata": {},
   "outputs": [
    {
     "data": {
      "image/png": "[encoded data removed]",
      "text/plain": [
       "<Figure size 432x288 with 1 Axes>"
      ]
     },
     "metadata": {
      "needs_background": "light"
     },
     "output_type": "display_data"
    }
   ],
   "source": [
    "plt.scatter(df[\"BOW\"], df[\"BRW\"])\n",
    "plt.title('Masse du cerveau en fonction de la masse globale de la CS')\n",
    "plt.xlabel('Masse corporelle')\n",
    "plt.ylabel('Masse cérébrale')\n",
    "plt.show()"
   ]
  },
  {
   "cell_type": "raw",
   "id": "2415c210",
   "metadata": {},
   "source": [
    "On remarque que la masse corporelle semble être fortement corrélée avec la masse cérébrale, de façon presque linéaire! Cependant, on a un point aberrant (13ème ligne de la matrice df) qui ne semble pas correspondre à la relation de linéarité que suivent les autres données. (Le coefficient semble être supérieur à 10 pour toutes les données sauf pour le point aberrant) "
   ]
  },
  {
   "cell_type": "raw",
   "id": "9c2c6e1b",
   "metadata": {},
   "source": [
    "Calculons betazero et betaun"
   ]
  },
  {
   "cell_type": "code",
   "execution_count": 144,
   "id": "34618815",
   "metadata": {},
   "outputs": [],
   "source": [
    "cov=df.cov()"
   ]
  },
  {
   "cell_type": "code",
   "execution_count": 145,
   "id": "504aa0f2",
   "metadata": {},
   "outputs": [
    {
     "name": "stdout",
     "output_type": "stream",
     "text": [
      "8.999877638992253\n"
     ]
    }
   ],
   "source": [
    "V= cov[\"BOW\"][\"BOW\"]\n",
    "C=cov[\"BOW\"][\"BRW\"]\n",
    "betaun = C/V\n",
    "print (betaun)"
   ]
  },
  {
   "cell_type": "code",
   "execution_count": 146,
   "id": "972a8db5",
   "metadata": {},
   "outputs": [
    {
     "name": "stdout",
     "output_type": "stream",
     "text": [
      "moyenne de la masse cérébrale: 1410.2068965517242\n",
      "moyenne de la masse corporelle: 87.41896551724139\n"
     ]
    }
   ],
   "source": [
    "mu_X = df[\"BOW\"].mean()\n",
    "mu_Y = df[\"BRW\"].mean()\n",
    "print(\"moyenne de la masse cérébrale:\", mu_Y)\n",
    "print(\"moyenne de la masse corporelle:\", mu_X)"
   ]
  },
  {
   "cell_type": "code",
   "execution_count": 147,
   "id": "ac430afd",
   "metadata": {},
   "outputs": [],
   "source": [
    "betazero = mu_Y - betaun*mu_X"
   ]
  },
  {
   "cell_type": "code",
   "execution_count": 148,
   "id": "4bed22da",
   "metadata": {},
   "outputs": [
    {
     "name": "stdout",
     "output_type": "stream",
     "text": [
      "Y = 8.999877638992253 *X + 623.4469035692686\n"
     ]
    }
   ],
   "source": [
    "#On obtient l'équation de la droite affine : \n",
    "print(\"Y =\", betaun, \"*X +\", betazero)"
   ]
  },
  {
   "cell_type": "code",
   "execution_count": 149,
   "id": "2e3d1d3a",
   "metadata": {},
   "outputs": [
    {
     "data": {
      "image/png": "[encoded data removed]",
      "text/plain": [
       "<Figure size 432x288 with 1 Axes>"
      ]
     },
     "metadata": {
      "needs_background": "light"
     },
     "output_type": "display_data"
    }
   ],
   "source": [
    "plt.scatter(df[\"BOW\"], df[\"BRW\"])\n",
    "plt.plot([0, 1100], [betazero, betazero+(1100*betaun)], color = 'red', linestyle = 'solid')\n",
    "plt.title('Masse du cerveau en fonction de la masse globale de la CS')\n",
    "plt.xlabel('Masse cérébrale')\n",
    "plt.ylabel('Masse corporelle')\n",
    "plt.show()"
   ]
  },
  {
   "cell_type": "code",
   "execution_count": 150,
   "id": "41b6e463",
   "metadata": {},
   "outputs": [],
   "source": [
    "import numpy as np\n",
    "from sklearn.linear_model import LinearRegression as lr"
   ]
  },
  {
   "cell_type": "code",
   "execution_count": 151,
   "id": "fcaf319a",
   "metadata": {},
   "outputs": [
    {
     "name": "stdout",
     "output_type": "stream",
     "text": [
      "0.9500384360421301\n"
     ]
    }
   ],
   "source": [
    "y= np.array(df[\"BRW\"]).reshape(-1,1)\n",
    "x= np.array(df[\"BOW\"]).reshape(-1,1)\n",
    "model = lr().fit(x, y)\n",
    "r_sq = model.score(x, y)\n",
    "print(r_sq)"
   ]
  },
  {
   "cell_type": "code",
   "execution_count": 152,
   "id": "3c98d60d",
   "metadata": {},
   "outputs": [
    {
     "name": "stdout",
     "output_type": "stream",
     "text": [
      "Y = 8.999877638992249 *X + 623.4469035692691\n"
     ]
    }
   ],
   "source": [
    "b_0 = model.intercept_[0]\n",
    "b_1 = model.coef_[0][0]\n",
    "print('Y =', b_1, '*X +', b_0)"
   ]
  },
  {
   "cell_type": "code",
   "execution_count": 153,
   "id": "d1b63f22",
   "metadata": {},
   "outputs": [
    {
     "data": {
      "image/png": "[encoded data removed]",
      "text/plain": [
       "<Figure size 432x288 with 1 Axes>"
      ]
     },
     "metadata": {
      "needs_background": "light"
     },
     "output_type": "display_data"
    }
   ],
   "source": [
    "plt.scatter(df[\"BOW\"], df[\"BRW\"])\n",
    "plt.plot([0, 1100], [b_0, b_0+(1100*b_1)], color = 'red', linestyle = 'solid')\n",
    "plt.title('Masse du cerveau en fonction de la masse globale de la CS')\n",
    "plt.xlabel('Masse cérébrale')\n",
    "plt.ylabel('Masse corporelle')\n",
    "plt.show()"
   ]
  },
  {
   "cell_type": "raw",
   "id": "3d0e2769",
   "metadata": {},
   "source": [
    "4.  Use the corresponding Python command to find the correlation coefficients."
   ]
  },
  {
   "cell_type": "code",
   "execution_count": 154,
   "id": "8d8917c9",
   "metadata": {},
   "outputs": [
    {
     "data": {
      "text/plain": [
       "0.974699151555048"
      ]
     },
     "execution_count": 154,
     "metadata": {},
     "output_type": "execute_result"
    }
   ],
   "source": [
    "df['BOW'].corr(df['BRW'])"
   ]
  },
  {
   "cell_type": "raw",
   "id": "976fe013",
   "metadata": {},
   "source": [
    "On constate que le coefficient est presque égal à un donc on a une bonne corrélation. "
   ]
  },
  {
   "cell_type": "code",
   "execution_count": 155,
   "id": "d10c75bb",
   "metadata": {},
   "outputs": [
    {
     "name": "stdout",
     "output_type": "stream",
     "text": [
      "219.86977423608732\n",
      "506.56777975166096\n",
      "158.26027902188582\n",
      "126.18900646740519\n",
      "748.575610856157\n",
      "-304.84560654258695\n",
      "-233.94390572457922\n",
      "-193.845117098556\n",
      "-185.74510486245515\n",
      "-65.74326944733889\n",
      "172.0585414955758\n",
      "-319.5456921952924\n",
      "1308.5851550147618\n",
      "-628.3228295074096\n",
      "-181.4449457931451\n",
      "299.6587372731882\n",
      "82.66412115752928\n",
      "-403.6454597093777\n",
      "47.4576115519169\n",
      "-187.80351784018472\n",
      "406.5742648850719\n",
      "-385.2658047674195\n",
      "-237.64472554333116\n",
      "-347.5458145563001\n",
      "-187.24443187691259\n",
      "23.55811323204864\n",
      "-157.24492132094355\n",
      "-35.84413821049395\n",
      "-44.34370994696678\n"
     ]
    }
   ],
   "source": [
    "L=[]\n",
    "for i in range(0, 29): \n",
    "    res_i = df['BRW'][i] - (df['BOW'][i]*b_1) - b_0 \n",
    "    print(res_i)"
   ]
  },
  {
   "cell_type": "code",
   "execution_count": 156,
   "id": "fb8c5673",
   "metadata": {},
   "outputs": [
    {
     "name": "stdout",
     "output_type": "stream",
     "text": [
      "[219.86977423608732, 506.56777975166096, 158.26027902188582, 126.18900646740519, 748.575610856157, -304.84560654258695, -233.94390572457922, -193.845117098556, -185.74510486245515, -65.74326944733889, 172.0585414955758, -319.5456921952924, 1308.5851550147618, -628.3228295074096, -181.4449457931451, 299.6587372731882, 82.66412115752928, -403.6454597093777, 47.4576115519169, -187.80351784018472, 406.5742648850719, -385.2658047674195, -237.64472554333116, -347.5458145563001, -187.24443187691259, 23.55811323204864, -157.24492132094355, -35.84413821049395, -44.34370994696678]\n"
     ]
    }
   ],
   "source": [
    "L=[df['BRW'][i] - (df['BOW'][i]*b_1) - b_0 for i in range(0, 29)] \n",
    "print(L)"
   ]
  },
  {
   "cell_type": "code",
   "execution_count": 157,
   "id": "b5b468f7",
   "metadata": {},
   "outputs": [
    {
     "name": "stdout",
     "output_type": "stream",
     "text": [
      "[ 136.3   120.     58.7    48.3   184.     10.6    24.5    14.6    14.7\n",
      "   29.7    44.5     9.9   262.   1014.     16.     46.1    90.1    11.8\n",
      "   36.9    27.67  173.      8.98   17.8     8.9    20.2    41.     16.2\n",
      "   22.6    26.1 ]\n"
     ]
    }
   ],
   "source": [
    "B = np.reshape([df[\"BOW\"]],(29,))\n",
    "print(B)"
   ]
  },
  {
   "cell_type": "code",
   "execution_count": 158,
   "id": "8e7ab28a",
   "metadata": {},
   "outputs": [],
   "source": [
    "B=B.reshape(-1,1)\n",
    "Xe=model.predict(B)"
   ]
  },
  {
   "cell_type": "code",
   "execution_count": 159,
   "id": "bcd05f76",
   "metadata": {},
   "outputs": [
    {
     "data": {
      "text/plain": [
       "array([[-1730.13022576],\n",
       "       [-1583.43222025],\n",
       "       [-1031.73972098],\n",
       "       [ -938.14099353],\n",
       "       [-2159.42438914],\n",
       "       [ -598.84560654],\n",
       "       [ -723.94390572],\n",
       "       [ -634.8451171 ],\n",
       "       [ -635.74510486],\n",
       "       [ -770.74326945],\n",
       "       [ -903.9414585 ],\n",
       "       [ -592.5456922 ],\n",
       "       [-2861.41484499],\n",
       "       [-9629.32282951],\n",
       "       [ -647.44494579],\n",
       "       [ -918.34126273],\n",
       "       [-1314.33587884],\n",
       "       [ -609.64545971],\n",
       "       [ -835.54238845],\n",
       "       [ -752.47351784],\n",
       "       [-2060.42573511],\n",
       "       [ -584.26580477],\n",
       "       [ -663.64472554],\n",
       "       [ -583.54581456],\n",
       "       [ -685.24443188],\n",
       "       [ -872.44188677],\n",
       "       [ -649.24492132],\n",
       "       [ -706.84413821],\n",
       "       [ -738.34370995]])"
      ]
     },
     "execution_count": 159,
     "metadata": {},
     "output_type": "execute_result"
    }
   ],
   "source": [
    "df[\"BOW\"][1]-Xe"
   ]
  },
  {
   "cell_type": "code",
   "execution_count": 160,
   "id": "c9e1a7d7",
   "metadata": {},
   "outputs": [
    {
     "name": "stdout",
     "output_type": "stream",
     "text": [
      "0.9500384360421301\n",
      "Y = -0.9500384360421295 *X + 49.543857944100864\n"
     ]
    }
   ],
   "source": [
    "y= np.array(df[\"BOW\"][1]-Xe).reshape(-1,1)\n",
    "x= np.array(df[\"BRW\"]).reshape(-1,1)\n",
    "model = lr().fit(x, y)\n",
    "r_sq = model.score(x, y)\n",
    "print(r_sq)\n",
    "c_0 = model.intercept_[0]\n",
    "c_1 = model.coef_[0][0]\n",
    "print('Y =', c_1, '*X +', c_0)"
   ]
  },
  {
   "cell_type": "markdown",
   "id": "d3c9a72b",
   "metadata": {},
   "source": [
    "#### A la demande du prof de TP, j'ai réalisé ce graphique : "
   ]
  },
  {
   "cell_type": "code",
   "execution_count": 161,
   "id": "e37c501d",
   "metadata": {},
   "outputs": [
    {
     "data": {
      "image/png": "[encoded data removed]",
      "text/plain": [
       "<Figure size 432x288 with 1 Axes>"
      ]
     },
     "metadata": {
      "needs_background": "light"
     },
     "output_type": "display_data"
    }
   ],
   "source": [
    "plt.scatter(df[\"BRW\"], df[\"BOW\"][1]-Xe) #Ici, je ne comprends pas l'équation df['BOW'][1]-Xe?... \n",
    "#Xe, c'est la prédiction des valeurs de df[\"BRW\"] d'après une fonction qui part de l'ensemble df[\"BOW\"][1] : \n",
    "#On peut ecrire (c'est grossier, mais c'est pour avoir l'idée) : Xe = -0.9500384360421295 *df[\"BOW\"][1] + 49.543857944100864\n",
    "#Donc df[\"BOW\"][1]-Xe = 1.9500384360421295 *df[\"BOW\"][1] - 49.543857944100864\n",
    "#Je ne comprends pas ce que ça signifie ou ce que ça apporte... \n",
    "#En fait pour moi ça serait bon si c'était la masse corporelle qu'on essayait de prédire. Or c'est la masse cérébrale!...\n",
    "plt.plot([0, 10100], [c_0, c_0+(10100*c_1)], color = 'red', linestyle = 'solid')\n",
    "plt.title('df[\"BOW\"][1]-Xe en fonction de la masse cérébrale de la CS')\n",
    "plt.xlabel('Masse cérébrale')\n",
    "plt.ylabel('df[\"BOW\"][1]-Xe')\n",
    "plt.show()"
   ]
  },
  {
   "cell_type": "markdown",
   "id": "8dab94c6",
   "metadata": {},
   "source": [
    "#### Ce graphique me semble plus adéquat... (même s'il est moins satisfaisant au niveau visuel)"
   ]
  },
  {
   "cell_type": "code",
   "execution_count": 162,
   "id": "979d8bd0",
   "metadata": {},
   "outputs": [
    {
     "data": {
      "image/png": "[encoded data removed]",
      "text/plain": [
       "<Figure size 432x288 with 1 Axes>"
      ]
     },
     "metadata": {
      "needs_background": "light"
     },
     "output_type": "display_data"
    }
   ],
   "source": [
    "plt.scatter(df[\"BOW\"], -(df[\"BRW\"][1]-Xe)) \n",
    "plt.plot([0, 1010], [b_0, (b_0+(1010*b_1))], color = 'red', linestyle = 'solid')\n",
    "plt.title('Masse du cerveau prédite en fonction de la masse globale de la CS')\n",
    "plt.xlabel('Masse globale')\n",
    "plt.ylabel('masse cérébrale')\n",
    "plt.show()"
   ]
  },
  {
   "cell_type": "markdown",
   "id": "e0aeb367",
   "metadata": {},
   "source": [
    "#### Ou celui-ci, qui illustre avec des segments gris l'écart entre les masses cérébrales 1) prédite (intersection du segment avec la droite rouge) et 2) réelles (intersection du segment avec le point bleu) :"
   ]
  },
  {
   "cell_type": "code",
   "execution_count": 163,
   "id": "9bd8a910",
   "metadata": {},
   "outputs": [
    {
     "data": {
      "image/png": "[encoded data removed]",
      "text/plain": [
       "<Figure size 432x288 with 1 Axes>"
      ]
     },
     "metadata": {
      "needs_background": "light"
     },
     "output_type": "display_data"
    }
   ],
   "source": [
    "plt.scatter(df[\"BOW\"], df['BRW'])\n",
    "plt.plot([0, 1010], [b_0, (b_0+(1010*b_1))], color = 'red', linestyle = 'solid') #droite de prédiction\n",
    "for i in range(0,29) :\n",
    "    plt.plot([df['BOW'][i],df['BOW'][i]], [df['BRW'][i], (b_0+(df['BOW'][i]*b_1))], color = 'grey', linestyle = 'solid')\n",
    "plt.title('Masse du cerveau en fonction de la masse globale de la CS')\n",
    "plt.xlabel('Masse corporelle')\n",
    "plt.ylabel('Résidus')\n",
    "plt.show()"
   ]
  },
  {
   "cell_type": "markdown",
   "id": "c5844685",
   "metadata": {},
   "source": [
    "## B- Second linear regression"
   ]
  },
  {
   "cell_type": "code",
   "execution_count": 164,
   "id": "c8fb8205",
   "metadata": {},
   "outputs": [],
   "source": [
    "tab2 = df.drop(df.index[[13]]) "
   ]
  },
  {
   "cell_type": "code",
   "execution_count": 165,
   "id": "74386f7b",
   "metadata": {},
   "outputs": [
    {
     "data": {
      "text/html": [
       "<div>\n",
       "<style scoped>\n",
       "    .dataframe tbody tr th:only-of-type {\n",
       "        vertical-align: middle;\n",
       "    }\n",
       "\n",
       "    .dataframe tbody tr th {\n",
       "        vertical-align: top;\n",
       "    }\n",
       "\n",
       "    .dataframe thead th {\n",
       "        text-align: right;\n",
       "    }\n",
       "</style>\n",
       "<table border=\"1\" class=\"dataframe\">\n",
       "  <thead>\n",
       "    <tr style=\"text-align: right;\">\n",
       "      <th></th>\n",
       "      <th>id</th>\n",
       "      <th>Species</th>\n",
       "      <th>Diet</th>\n",
       "      <th>BOW</th>\n",
       "      <th>BRW</th>\n",
       "      <th>AUD</th>\n",
       "      <th>MOB</th>\n",
       "      <th>HIP</th>\n",
       "    </tr>\n",
       "  </thead>\n",
       "  <tbody>\n",
       "    <tr>\n",
       "      <th>0</th>\n",
       "      <td>1</td>\n",
       "      <td>Rousettus aegyptiacus</td>\n",
       "      <td>1</td>\n",
       "      <td>136.30</td>\n",
       "      <td>2070.00</td>\n",
       "      <td>9.88</td>\n",
       "      <td>105.77</td>\n",
       "      <td>125.97</td>\n",
       "    </tr>\n",
       "    <tr>\n",
       "      <th>1</th>\n",
       "      <td>2</td>\n",
       "      <td>Epomops franqueti</td>\n",
       "      <td>1</td>\n",
       "      <td>120.00</td>\n",
       "      <td>2210.00</td>\n",
       "      <td>10.44</td>\n",
       "      <td>107.80</td>\n",
       "      <td>159.80</td>\n",
       "    </tr>\n",
       "    <tr>\n",
       "      <th>2</th>\n",
       "      <td>3</td>\n",
       "      <td>Eonycteris spelaea</td>\n",
       "      <td>1</td>\n",
       "      <td>58.70</td>\n",
       "      <td>1310.00</td>\n",
       "      <td>5.48</td>\n",
       "      <td>67.00</td>\n",
       "      <td>97.70</td>\n",
       "    </tr>\n",
       "    <tr>\n",
       "      <th>3</th>\n",
       "      <td>4</td>\n",
       "      <td>Cynopterus sphinx</td>\n",
       "      <td>1</td>\n",
       "      <td>48.30</td>\n",
       "      <td>1184.33</td>\n",
       "      <td>4.77</td>\n",
       "      <td>65.27</td>\n",
       "      <td>95.40</td>\n",
       "    </tr>\n",
       "    <tr>\n",
       "      <th>4</th>\n",
       "      <td>5</td>\n",
       "      <td>Dobsonia praedatrix</td>\n",
       "      <td>1</td>\n",
       "      <td>184.00</td>\n",
       "      <td>3028.00</td>\n",
       "      <td>7.09</td>\n",
       "      <td>213.43</td>\n",
       "      <td>233.30</td>\n",
       "    </tr>\n",
       "    <tr>\n",
       "      <th>5</th>\n",
       "      <td>6</td>\n",
       "      <td>Glossophaga soricina</td>\n",
       "      <td>1</td>\n",
       "      <td>10.60</td>\n",
       "      <td>414.00</td>\n",
       "      <td>3.74</td>\n",
       "      <td>12.20</td>\n",
       "      <td>35.00</td>\n",
       "    </tr>\n",
       "    <tr>\n",
       "      <th>6</th>\n",
       "      <td>7</td>\n",
       "      <td>Leptonycteris curasoae</td>\n",
       "      <td>1</td>\n",
       "      <td>24.50</td>\n",
       "      <td>610.00</td>\n",
       "      <td>5.57</td>\n",
       "      <td>18.60</td>\n",
       "      <td>44.95</td>\n",
       "    </tr>\n",
       "    <tr>\n",
       "      <th>7</th>\n",
       "      <td>8</td>\n",
       "      <td>Macroglossus miniumus</td>\n",
       "      <td>1</td>\n",
       "      <td>14.60</td>\n",
       "      <td>561.00</td>\n",
       "      <td>2.40</td>\n",
       "      <td>30.05</td>\n",
       "      <td>52.95</td>\n",
       "    </tr>\n",
       "    <tr>\n",
       "      <th>8</th>\n",
       "      <td>9</td>\n",
       "      <td>Syconycteris australis</td>\n",
       "      <td>1</td>\n",
       "      <td>14.70</td>\n",
       "      <td>570.00</td>\n",
       "      <td>2.13</td>\n",
       "      <td>31.40</td>\n",
       "      <td>53.10</td>\n",
       "    </tr>\n",
       "    <tr>\n",
       "      <th>9</th>\n",
       "      <td>10</td>\n",
       "      <td>Nyctimene albiventer</td>\n",
       "      <td>1</td>\n",
       "      <td>29.70</td>\n",
       "      <td>825.00</td>\n",
       "      <td>4.56</td>\n",
       "      <td>68.93</td>\n",
       "      <td>81.40</td>\n",
       "    </tr>\n",
       "    <tr>\n",
       "      <th>10</th>\n",
       "      <td>24</td>\n",
       "      <td>Brachyphylla cavernarum</td>\n",
       "      <td>1</td>\n",
       "      <td>44.50</td>\n",
       "      <td>1196.00</td>\n",
       "      <td>8.63</td>\n",
       "      <td>42.20</td>\n",
       "      <td>78.80</td>\n",
       "    </tr>\n",
       "    <tr>\n",
       "      <th>11</th>\n",
       "      <td>25</td>\n",
       "      <td>Lionycteris spurrelli</td>\n",
       "      <td>1</td>\n",
       "      <td>9.90</td>\n",
       "      <td>393.00</td>\n",
       "      <td>3.71</td>\n",
       "      <td>10.30</td>\n",
       "      <td>29.50</td>\n",
       "    </tr>\n",
       "    <tr>\n",
       "      <th>12</th>\n",
       "      <td>26</td>\n",
       "      <td>Eidolon helvum</td>\n",
       "      <td>1</td>\n",
       "      <td>262.00</td>\n",
       "      <td>4290.00</td>\n",
       "      <td>12.77</td>\n",
       "      <td>208.70</td>\n",
       "      <td>258.10</td>\n",
       "    </tr>\n",
       "    <tr>\n",
       "      <th>14</th>\n",
       "      <td>28</td>\n",
       "      <td>Anoura geofroyi</td>\n",
       "      <td>1</td>\n",
       "      <td>16.00</td>\n",
       "      <td>586.00</td>\n",
       "      <td>5.20</td>\n",
       "      <td>14.15</td>\n",
       "      <td>41.40</td>\n",
       "    </tr>\n",
       "    <tr>\n",
       "      <th>15</th>\n",
       "      <td>29</td>\n",
       "      <td>Phylloderma stenops</td>\n",
       "      <td>1</td>\n",
       "      <td>46.10</td>\n",
       "      <td>1338.00</td>\n",
       "      <td>10.20</td>\n",
       "      <td>87.40</td>\n",
       "      <td>91.70</td>\n",
       "    </tr>\n",
       "    <tr>\n",
       "      <th>16</th>\n",
       "      <td>30</td>\n",
       "      <td>Phyllostomus haustatus</td>\n",
       "      <td>1</td>\n",
       "      <td>90.10</td>\n",
       "      <td>1517.00</td>\n",
       "      <td>12.74</td>\n",
       "      <td>34.33</td>\n",
       "      <td>65.60</td>\n",
       "    </tr>\n",
       "    <tr>\n",
       "      <th>17</th>\n",
       "      <td>31</td>\n",
       "      <td>Mimon crenulatum</td>\n",
       "      <td>1</td>\n",
       "      <td>11.80</td>\n",
       "      <td>326.00</td>\n",
       "      <td>5.92</td>\n",
       "      <td>7.30</td>\n",
       "      <td>18.20</td>\n",
       "    </tr>\n",
       "    <tr>\n",
       "      <th>18</th>\n",
       "      <td>32</td>\n",
       "      <td>Trachops cirrhosus</td>\n",
       "      <td>1</td>\n",
       "      <td>36.90</td>\n",
       "      <td>1003.00</td>\n",
       "      <td>16.34</td>\n",
       "      <td>23.50</td>\n",
       "      <td>50.60</td>\n",
       "    </tr>\n",
       "    <tr>\n",
       "      <th>19</th>\n",
       "      <td>33</td>\n",
       "      <td>Tonatia bidens</td>\n",
       "      <td>1</td>\n",
       "      <td>27.67</td>\n",
       "      <td>684.67</td>\n",
       "      <td>13.37</td>\n",
       "      <td>17.96</td>\n",
       "      <td>28.30</td>\n",
       "    </tr>\n",
       "    <tr>\n",
       "      <th>20</th>\n",
       "      <td>34</td>\n",
       "      <td>Vampyrum spectrum</td>\n",
       "      <td>1</td>\n",
       "      <td>173.00</td>\n",
       "      <td>2587.00</td>\n",
       "      <td>27.60</td>\n",
       "      <td>92.00</td>\n",
       "      <td>110.40</td>\n",
       "    </tr>\n",
       "    <tr>\n",
       "      <th>21</th>\n",
       "      <td>35</td>\n",
       "      <td>Micronycteris brachyotis</td>\n",
       "      <td>1</td>\n",
       "      <td>8.98</td>\n",
       "      <td>319.00</td>\n",
       "      <td>4.19</td>\n",
       "      <td>13.85</td>\n",
       "      <td>17.10</td>\n",
       "    </tr>\n",
       "    <tr>\n",
       "      <th>22</th>\n",
       "      <td>36</td>\n",
       "      <td>Carollia perspicillata</td>\n",
       "      <td>1</td>\n",
       "      <td>17.80</td>\n",
       "      <td>546.00</td>\n",
       "      <td>5.27</td>\n",
       "      <td>23.55</td>\n",
       "      <td>40.75</td>\n",
       "    </tr>\n",
       "    <tr>\n",
       "      <th>23</th>\n",
       "      <td>37</td>\n",
       "      <td>Rhinophlylla pumilio</td>\n",
       "      <td>1</td>\n",
       "      <td>8.90</td>\n",
       "      <td>356.00</td>\n",
       "      <td>4.57</td>\n",
       "      <td>18.80</td>\n",
       "      <td>30.30</td>\n",
       "    </tr>\n",
       "    <tr>\n",
       "      <th>24</th>\n",
       "      <td>38</td>\n",
       "      <td>Sturnira lilium</td>\n",
       "      <td>1</td>\n",
       "      <td>20.20</td>\n",
       "      <td>618.00</td>\n",
       "      <td>4.77</td>\n",
       "      <td>30.77</td>\n",
       "      <td>49.73</td>\n",
       "    </tr>\n",
       "    <tr>\n",
       "      <th>25</th>\n",
       "      <td>39</td>\n",
       "      <td>Artibeus lituratus</td>\n",
       "      <td>1</td>\n",
       "      <td>41.00</td>\n",
       "      <td>1016.00</td>\n",
       "      <td>7.21</td>\n",
       "      <td>34.38</td>\n",
       "      <td>54.90</td>\n",
       "    </tr>\n",
       "    <tr>\n",
       "      <th>26</th>\n",
       "      <td>40</td>\n",
       "      <td>Uroderma bilobatum</td>\n",
       "      <td>1</td>\n",
       "      <td>16.20</td>\n",
       "      <td>612.00</td>\n",
       "      <td>5.98</td>\n",
       "      <td>28.70</td>\n",
       "      <td>42.70</td>\n",
       "    </tr>\n",
       "    <tr>\n",
       "      <th>27</th>\n",
       "      <td>41</td>\n",
       "      <td>Vampyrops vittatus</td>\n",
       "      <td>1</td>\n",
       "      <td>22.60</td>\n",
       "      <td>791.00</td>\n",
       "      <td>11.56</td>\n",
       "      <td>29.22</td>\n",
       "      <td>52.46</td>\n",
       "    </tr>\n",
       "    <tr>\n",
       "      <th>28</th>\n",
       "      <td>42</td>\n",
       "      <td>Chiroderma villosum</td>\n",
       "      <td>1</td>\n",
       "      <td>26.10</td>\n",
       "      <td>814.00</td>\n",
       "      <td>7.95</td>\n",
       "      <td>28.75</td>\n",
       "      <td>47.58</td>\n",
       "    </tr>\n",
       "  </tbody>\n",
       "</table>\n",
       "</div>"
      ],
      "text/plain": [
       "    id                   Species  Diet     BOW      BRW    AUD     MOB     HIP\n",
       "0    1     Rousettus aegyptiacus     1  136.30  2070.00   9.88  105.77  125.97\n",
       "1    2         Epomops franqueti     1  120.00  2210.00  10.44  107.80  159.80\n",
       "2    3        Eonycteris spelaea     1   58.70  1310.00   5.48   67.00   97.70\n",
       "3    4         Cynopterus sphinx     1   48.30  1184.33   4.77   65.27   95.40\n",
       "4    5       Dobsonia praedatrix     1  184.00  3028.00   7.09  213.43  233.30\n",
       "5    6      Glossophaga soricina     1   10.60   414.00   3.74   12.20   35.00\n",
       "6    7    Leptonycteris curasoae     1   24.50   610.00   5.57   18.60   44.95\n",
       "7    8     Macroglossus miniumus     1   14.60   561.00   2.40   30.05   52.95\n",
       "8    9    Syconycteris australis     1   14.70   570.00   2.13   31.40   53.10\n",
       "9   10      Nyctimene albiventer     1   29.70   825.00   4.56   68.93   81.40\n",
       "10  24   Brachyphylla cavernarum     1   44.50  1196.00   8.63   42.20   78.80\n",
       "11  25     Lionycteris spurrelli     1    9.90   393.00   3.71   10.30   29.50\n",
       "12  26            Eidolon helvum     1  262.00  4290.00  12.77  208.70  258.10\n",
       "14  28           Anoura geofroyi     1   16.00   586.00   5.20   14.15   41.40\n",
       "15  29       Phylloderma stenops     1   46.10  1338.00  10.20   87.40   91.70\n",
       "16  30    Phyllostomus haustatus     1   90.10  1517.00  12.74   34.33   65.60\n",
       "17  31          Mimon crenulatum     1   11.80   326.00   5.92    7.30   18.20\n",
       "18  32        Trachops cirrhosus     1   36.90  1003.00  16.34   23.50   50.60\n",
       "19  33            Tonatia bidens     1   27.67   684.67  13.37   17.96   28.30\n",
       "20  34         Vampyrum spectrum     1  173.00  2587.00  27.60   92.00  110.40\n",
       "21  35  Micronycteris brachyotis     1    8.98   319.00   4.19   13.85   17.10\n",
       "22  36    Carollia perspicillata     1   17.80   546.00   5.27   23.55   40.75\n",
       "23  37      Rhinophlylla pumilio     1    8.90   356.00   4.57   18.80   30.30\n",
       "24  38           Sturnira lilium     1   20.20   618.00   4.77   30.77   49.73\n",
       "25  39        Artibeus lituratus     1   41.00  1016.00   7.21   34.38   54.90\n",
       "26  40        Uroderma bilobatum     1   16.20   612.00   5.98   28.70   42.70\n",
       "27  41        Vampyrops vittatus     1   22.60   791.00  11.56   29.22   52.46\n",
       "28  42       Chiroderma villosum     1   26.10   814.00   7.95   28.75   47.58"
      ]
     },
     "execution_count": 165,
     "metadata": {},
     "output_type": "execute_result"
    }
   ],
   "source": [
    "tab2"
   ]
  },
  {
   "cell_type": "raw",
   "id": "4bd874ba",
   "metadata": {},
   "source": [
    "Il vaut mieux travailler avec tab2, car on s'est débarrassé.es d'un point aberrant. "
   ]
  },
  {
   "cell_type": "code",
   "execution_count": 166,
   "id": "6a075336",
   "metadata": {},
   "outputs": [
    {
     "name": "stdout",
     "output_type": "stream",
     "text": [
      "0.9778253041251115\n"
     ]
    }
   ],
   "source": [
    "y= np.array(tab2[\"BRW\"]).reshape(-1,1)\n",
    "x= np.array(tab2[\"BOW\"]).reshape(-1,1)\n",
    "model = lr().fit(x, y)\n",
    "r_sq2 = model.score(x, y)\n",
    "print(r_sq2)"
   ]
  },
  {
   "cell_type": "code",
   "execution_count": 167,
   "id": "bf6cd359",
   "metadata": {},
   "outputs": [
    {
     "name": "stdout",
     "output_type": "stream",
     "text": [
      "Y = 14.509900826013135 *X + 346.5451556610758\n"
     ]
    }
   ],
   "source": [
    "d_0 = model.intercept_[0]\n",
    "d_1 = model.coef_[0][0]\n",
    "print('Y =', d_1, '*X +', d_0)"
   ]
  },
  {
   "cell_type": "code",
   "execution_count": 168,
   "id": "f64e5a17",
   "metadata": {},
   "outputs": [
    {
     "data": {
      "text/plain": [
       "0.9888504963466984"
      ]
     },
     "execution_count": 168,
     "metadata": {},
     "output_type": "execute_result"
    }
   ],
   "source": [
    "tab2['BOW'].corr(tab2['BRW'])"
   ]
  },
  {
   "cell_type": "raw",
   "id": "898c5520",
   "metadata": {},
   "source": [
    "On constate que le coefficient de corrélation issu de tab2 est plus élevé et plus proche de 1 que celui issu de df."
   ]
  },
  {
   "cell_type": "code",
   "execution_count": 169,
   "id": "49043600",
   "metadata": {},
   "outputs": [
    {
     "name": "stdout",
     "output_type": "stream",
     "text": [
      "-254.24463824666623\n",
      "122.26674521734799\n",
      "111.72366585195311\n",
      "136.95663444248976\n",
      "11.63309235250722\n",
      "-86.35010441681504\n",
      "-92.03772589839758\n",
      "2.610292279132409\n",
      "10.159302196531144\n",
      "47.51078980633412\n",
      "203.76425758133973\n",
      "-97.19317383860584\n",
      "141.86082792348293\n",
      "7.2964311227140115\n",
      "322.5484162597187\n",
      "-136.8872200848591\n",
      "-191.7619854080308\n",
      "121.03950385903954\n",
      "-63.36411151685934\n",
      "-269.75799856134813\n",
      "-157.84406507867376\n",
      "-58.82139036410962\n",
      "-119.68327301259271\n",
      "-21.645152346541124\n",
      "74.54891047238561\n",
      "30.394450957511424\n",
      "116.53108567102731\n",
      "88.74643277998138\n"
     ]
    }
   ],
   "source": [
    "for i in range(0, 29):\n",
    "    if i!=13 :\n",
    "        res2_i = tab2['BRW'][i] - (tab2['BOW'][i]*d_1) - d_0 \n",
    "        print(res2_i)\n",
    "    else :\n",
    "        pass #Premier calcul des résidus (plutôt \"manuel\")"
   ]
  },
  {
   "cell_type": "code",
   "execution_count": 170,
   "id": "8de1ec0a",
   "metadata": {},
   "outputs": [
    {
     "name": "stdout",
     "output_type": "stream",
     "text": [
      "[136.3  120.    58.7   48.3  184.    10.6   24.5   14.6   14.7   29.7\n",
      "  44.5    9.9  262.    16.    46.1   90.1   11.8   36.9   27.67 173.\n",
      "   8.98  17.8    8.9   20.2   41.    16.2   22.6   26.1 ]\n"
     ]
    }
   ],
   "source": [
    "D = np.reshape([tab2[\"BOW\"]],(28,))\n",
    "print(D)"
   ]
  },
  {
   "cell_type": "code",
   "execution_count": 171,
   "id": "52d04f0c",
   "metadata": {},
   "outputs": [],
   "source": [
    "D=D.reshape(-1,1)\n",
    "Xe2=model.predict(D)"
   ]
  },
  {
   "cell_type": "code",
   "execution_count": 172,
   "id": "5d3e17b2",
   "metadata": {},
   "outputs": [
    {
     "data": {
      "text/plain": [
       "array([[ -114.24463825],\n",
       "       [  122.26674522],\n",
       "       [ 1011.72366585],\n",
       "       [ 1162.62663444],\n",
       "       [ -806.36690765],\n",
       "       [ 1709.64989558],\n",
       "       [ 1507.9622741 ],\n",
       "       [ 1651.61029228],\n",
       "       [ 1650.1593022 ],\n",
       "       [ 1432.51078981],\n",
       "       [ 1217.76425758],\n",
       "       [ 1719.80682616],\n",
       "       [-1938.13917208],\n",
       "       [ 1631.29643112],\n",
       "       [ 1194.54841626],\n",
       "       [  556.11277992],\n",
       "       [ 1692.23801459],\n",
       "       [ 1328.03950386],\n",
       "       [ 1461.96588848],\n",
       "       [ -646.75799856],\n",
       "       [ 1733.15593492],\n",
       "       [ 1605.17860964],\n",
       "       [ 1734.31672699],\n",
       "       [ 1570.35484765],\n",
       "       [ 1268.54891047],\n",
       "       [ 1628.39445096],\n",
       "       [ 1535.53108567],\n",
       "       [ 1484.74643278]])"
      ]
     },
     "execution_count": 172,
     "metadata": {},
     "output_type": "execute_result"
    }
   ],
   "source": [
    "tab2[\"BRW\"][1]-Xe2 #Calcul des résidus"
   ]
  },
  {
   "cell_type": "code",
   "execution_count": 173,
   "id": "92779f12",
   "metadata": {},
   "outputs": [
    {
     "name": "stdout",
     "output_type": "stream",
     "text": [
      "1.0\n",
      "Y = -14.509900826013135 * X + 1863.4548443389242\n"
     ]
    }
   ],
   "source": [
    "y= np.array(tab2[\"BRW\"][1]-Xe2).reshape(-1,1)\n",
    "x= np.array(tab2[\"BOW\"]).reshape(-1,1)\n",
    "model = lr().fit(x, y)\n",
    "r_sq2 = model.score(x, y)\n",
    "print(r_sq2)\n",
    "d2_0 = model.intercept_[0]\n",
    "d2_1 = model.coef_[0][0]\n",
    "print('Y =', d2_1, '* X +', d2_0)"
   ]
  },
  {
   "cell_type": "code",
   "execution_count": 174,
   "id": "4d8efb20",
   "metadata": {},
   "outputs": [
    {
     "data": {
      "image/png": "[encoded data removed]",
      "text/plain": [
       "<Figure size 432x288 with 1 Axes>"
      ]
     },
     "metadata": {
      "needs_background": "light"
     },
     "output_type": "display_data"
    }
   ],
   "source": [
    "plt.scatter(tab2[\"BOW\"], tab2[\"BRW\"][1]-Xe2)\n",
    "#On répète le modèle donné par le professeur de TP dans le A, mais en inversant BOW et BRW\n",
    "plt.plot([tab2['BOW'][21], tab2['BOW'][12]], [d2_0 + (tab2['BOW'][21]*d2_1), d2_0 + (tab2['BOW'][12]*d2_1)], color = 'red', linestyle = 'solid')\n",
    "plt.title('Masse du cerveau en fonction de la masse globale de la CS')\n",
    "plt.xlabel('Masse globale')\n",
    "plt.ylabel('Masse cérébrale')\n",
    "plt.show()\n",
    "\n",
    "#Ici, l'intérêt devrait être de comparer l'écart entre les points bleus et la droite rouge. \n",
    "#Mais là ça n'a pas vraiment d'intérêt car ils sont tous sur la droite. Il y a une erreur quelque part... "
   ]
  },
  {
   "cell_type": "raw",
   "id": "40badfef",
   "metadata": {},
   "source": [
    "On va essayer un autre graphique : "
   ]
  },
  {
   "cell_type": "code",
   "execution_count": 175,
   "id": "e2c25d44",
   "metadata": {},
   "outputs": [
    {
     "data": {
      "image/png": "[encoded data removed]",
      "text/plain": [
       "<Figure size 432x288 with 1 Axes>"
      ]
     },
     "metadata": {
      "needs_background": "light"
     },
     "output_type": "display_data"
    }
   ],
   "source": [
    "plt.scatter(tab2[\"BOW\"], tab2[\"BRW\"])\n",
    "plt.plot([tab2['BOW'][21], tab2['BOW'][12]], [- (tab2['BOW'][21]*d2_1), - (tab2['BOW'][12]*d2_1)], color = 'red', linestyle = 'solid')\n",
    "#Ci-dessus, le plt.plot va tracer la droite de la fonction qui nous prédit des valeurs pour la masse cérébrale en\n",
    "#fonction de la masse globale. J'ai été obligée d'enlever d2_0 à l'équation de la droite et de la passer au\n",
    "#négatif pour que ça corresponde à peu près... Je ne comprends pas pourquoi ona obtenu un coefficient d2_1 négatif...\n",
    "plt.title('Masse du cerveau en fonction de la masse globale de la CS')\n",
    "plt.xlabel('Masse globale')\n",
    "plt.ylabel('Masse cérébrale')\n",
    "plt.show()\n",
    "\n",
    "#Ici, l'intérêt est peut-être de comparer l'écart entre les points bleus et la droite rouge. \n",
    "#Je ne comprends pas pourquoi ils sont tous au-dessus de la droite alors qu'on a des résidus négatifs..."
   ]
  },
  {
   "cell_type": "code",
   "execution_count": 176,
   "id": "a63dabfa",
   "metadata": {},
   "outputs": [],
   "source": [
    "#Désolée, mais je ne vois pas tellement l'intérêt de faire la partie trois : Je vois bien que je me trompe en \n",
    "#faisant les RL de cette manière, donc ça ne me semble pas très intelligent de la faire en répétant \n",
    "#une troisième fois les mêmes erreurs...\n",
    "#Je préfère vous laisser ce que j'ai fait et essayer de comprendre comment faire les RL avant de me lancer. \n",
    "#Je suis vraiment désolée. "
   ]
  },
  {
   "cell_type": "markdown",
   "id": "635f0ff1",
   "metadata": {},
   "source": [
    "## Fin du TP"
   ]
  }
 ],
 "metadata": {
  "kernelspec": {
   "display_name": "Python 3",
   "language": "python",
   "name": "python3"
  },
  "language_info": {
   "codemirror_mode": {
    "name": "ipython",
    "version": 3
   },
   "file_extension": ".py",
   "mimetype": "text/x-python",
   "name": "python",
   "nbconvert_exporter": "python",
   "pygments_lexer": "ipython3",
   "version": "3.8.8"
  }
 },
 "nbformat": 4,
 "nbformat_minor": 5
}
